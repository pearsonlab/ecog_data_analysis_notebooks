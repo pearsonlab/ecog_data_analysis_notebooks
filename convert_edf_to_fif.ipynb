{
 "cells": [
  {
   "cell_type": "code",
   "execution_count": 1,
   "metadata": {
    "collapsed": true
   },
   "outputs": [],
   "source": [
    "from __future__ import print_function\n",
    "\n",
    "import numpy as np\n",
    "\n",
    "import pandas as pd\n",
    "\n",
    "import matplotlib.pyplot as plt\n",
    "import seaborn as sns\n",
    "\n",
    "import json\n",
    "import os\n",
    "import mne\n",
    "\n",
    "import ecogtools"
   ]
  },
  {
   "cell_type": "code",
   "execution_count": 8,
   "metadata": {
    "collapsed": true
   },
   "outputs": [],
   "source": [
    "patient_num = \"2007\"\n",
    "\n",
    "ecogfile = \"patient_\"+ patient_num+\"/john_\"+patient_num+\".edf\""
   ]
  },
  {
   "cell_type": "code",
   "execution_count": 5,
   "metadata": {
    "collapsed": false
   },
   "outputs": [
    {
     "name": "stdout",
     "output_type": "stream",
     "text": [
      "Extracting edf Parameters from patient_2007/john_2007.edf...\n",
      "Setting channel info structure...\n",
      "Creating Raw.info structure...\n",
      "Ready.\n"
     ]
    }
   ],
   "source": [
    "# Patient_num_analysis .json file should have ecog file as .edf file name\n",
    "phys = mne.io.read_raw_edf(ecogfile, preload=False)"
   ]
  },
  {
   "cell_type": "code",
   "execution_count": 7,
   "metadata": {
    "collapsed": false
   },
   "outputs": [
    {
     "name": "stdout",
     "output_type": "stream",
     "text": [
      "This filename (patient_2007/john_2007.fif) does not conform to MNE naming conventions. All raw files should end with raw.fif, raw_sss.fif, raw_tsss.fif, raw.fif.gz, raw_sss.fif.gz or raw_tsss.fif.gz\n",
      "Writing /Users/andrew_bartuska/lab/ecog_data_analysis/patient_2007/john_2007.fif\n"
     ]
    },
    {
     "name": "stderr",
     "output_type": "stream",
     "text": [
      "<ipython-input-7-8a5a1d1ebb71>:2: RuntimeWarning: This filename (patient_2007/john_2007.fif) does not conform to MNE naming conventions. All raw files should end with raw.fif, raw_sss.fif, raw_tsss.fif, raw.fif.gz, raw_sss.fif.gz or raw_tsss.fif.gz\n",
      "  phys.save(fname)\n"
     ]
    },
    {
     "name": "stdout",
     "output_type": "stream",
     "text": [
      "Writing /Users/andrew_bartuska/lab/ecog_data_analysis/patient_2007/john_2007-1.fif\n",
      "Writing /Users/andrew_bartuska/lab/ecog_data_analysis/patient_2007/john_2007-2.fif\n",
      "Writing /Users/andrew_bartuska/lab/ecog_data_analysis/patient_2007/john_2007-3.fif\n",
      "Closing /Users/andrew_bartuska/lab/ecog_data_analysis/patient_2007/john_2007-3.fif [done]\n",
      "Closing /Users/andrew_bartuska/lab/ecog_data_analysis/patient_2007/john_2007-2.fif [done]\n",
      "Closing /Users/andrew_bartuska/lab/ecog_data_analysis/patient_2007/john_2007-1.fif [done]\n",
      "Closing /Users/andrew_bartuska/lab/ecog_data_analysis/patient_2007/john_2007.fif [done]\n"
     ]
    }
   ],
   "source": [
    "fif_file = ecogfile[:-3]+\"fif\"\n",
    "phys.save(fif_file)"
   ]
  }
 ],
 "metadata": {
  "anaconda-cloud": {},
  "kernelspec": {
   "display_name": "Python [Root]",
   "language": "python",
   "name": "Python [Root]"
  },
  "language_info": {
   "codemirror_mode": {
    "name": "ipython",
    "version": 2
   },
   "file_extension": ".py",
   "mimetype": "text/x-python",
   "name": "python",
   "nbconvert_exporter": "python",
   "pygments_lexer": "ipython2",
   "version": "2.7.11"
  }
 },
 "nbformat": 4,
 "nbformat_minor": 0
}
